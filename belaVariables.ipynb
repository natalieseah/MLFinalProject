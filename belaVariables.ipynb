{
 "cells": [
  {
   "cell_type": "markdown",
   "id": "bf36eda4",
   "metadata": {},
   "source": [
    "Prediction Task: predicting complications of MI\n",
    "- Complications in columns 113-124 (12 target variables)\n",
    "- any of these could be modeled as a separate binary classification problem or it could be a multi-label classification problem"
   ]
  },
  {
   "cell_type": "markdown",
   "id": "6c27cdb5",
   "metadata": {},
   "source": [
    "Clinical risk factors\t\n",
    "- Age\n",
    "- Gender\n",
    "- Hypertension\n",
    "- Diabetes\n",
    "- Heart Failure\t\n",
    "\n",
    "MI history (Past events often predict future ones)\n",
    "- INF_ANAM\n",
    "- STENOK_AN\n",
    "- CHD in recent weeks\n",
    "\n",
    "ECG findings (help localize and classify MI type)\n",
    "- ant_im\n",
    "- lat_im\n",
    "- inf_im,\n",
    "- ritm_ecg_, np_\n",
    "\n",
    "Bloodwork (reflect organ function / inflammation)\n",
    "- K_BLOOD\n",
    "- Na_BLOOD\n",
    "- L_BLOOD\n",
    "- ROE\n",
    "- AST/ALT/CPK\t\n",
    "\n",
    "Symptoms on admission\n",
    "- Pulmonary edema\n",
    "- cardiogenic shock\n",
    "- arrhythmia\t\n",
    "\n",
    "Time to hospital (Delayed treatment = worse outcomes)\n",
    "TIME_B_S\t\n",
    "\n",
    "Therapies applied\t\n",
    "- Fibrinolytics\n",
    "- opioids\n",
    "- NSAIDs\n",
    "- nitrates\t"
   ]
  },
  {
   "cell_type": "markdown",
   "id": "ca128846",
   "metadata": {},
   "source": [
    "**Demographics & History**\n",
    "\n",
    "- AGE: Older age is associated with worse cardiac outcomes, reduced physiological reserve, and higher complication rates after MI (e.g., arrhythmia, heart failure)\n",
    "- SEX: sex differences exist in cardiac presentation and outcomes; for example, females may present atypically and are often undertreated. Men tend to have earlier onset of CHD\n",
    "- INF_ANAM – Previous MI events: A history of prior myocardial infarctions suggests underlying coronary artery disease, increasing the risk of reinfarction, heart failure, and arrhythmias\n",
    "- STENOK_AN – History of angina: Indicates pre-existing ischemic burden. Chronic angina suggests advanced coronary disease and reduced myocardial reserve\n",
    "- FK_STENOK – Functional class of angina: The severity of angina symptoms before MI helps predict cardiac reserve and tolerance to ischemia. Higher classes correlate with worse prognosis\n",
    "- IBS_POST – CHD in recent weeks: Recent ischemic episodes (like unstable angina or recent MI) suggest an unstable plaque or active coronary syndrome, which can lead to complications\n",
    "- ZSN_A – Chronic heart failure: Existing heart failure significantly raises the risk of acute decompensation, arrhythmias, and mortality post-MI\n",
    "- GB – Hypertension stage: Hypertension is a major risk factor for CHD and contributes to left ventricular hypertrophy, increased afterload, and worse outcomes\n",
    "- SIM_GIPERT – Symptomatic hypertension: Reflects poorly controlled hypertension; may exacerbate ischemia or trigger acute complications like stroke or heart failure\n",
    "- endocr_01 – Diabetes: Diabetics have higher risk of silent ischemia, worse atherosclerosis, impaired healing, and higher complication/mortality rates post-MI\n",
    "- endocr_02 – Obesity: Obesity is associated with metabolic syndrome, inflammation, and increased cardiac workload. Paradoxically, some studies show an \"obesity paradox,\" but overall it's a risk enhancer\n",
    "\n",
    "**Admission Condition**\n",
    "- S_AD_KBRIG / D_AD_KBRIG – Blood pressure on emergency arrival: Low BP may indicate cardiogenic shock or poor perfusion. High BP may reflect acute stress or hypertensive crisis. Hemodynamic status is critical in risk stratification\n",
    "- K_SH_POST – Cardiogenic shock: A key marker of severe LV dysfunction. Strong predictor of mortality and multiple complications (e.g., AKI, arrhythmias, multi-organ failure)\n",
    "- O_L_POST – Pulmonary edema: Suggests left-sided heart failure or high LV filling pressures; often indicates acute decompensation or significant myocardial injury\n",
    "- MP_TP_POST – Atrial fibrillation on arrival: AF on admission may result from atrial strain or existing structural heart disease, increasing stroke risk and complicating management\n",
    "- SVT_POST – Supraventricular tachycardia: Can worsen ischemia and hemodynamics; indicates electrical instability or hyperadrenergic state\n",
    "- FIB_G_POST – Ventricular fibrillation: A life-threatening arrhythmia usually reflecting large infarct size or ischemic myocardium; critical predictor of poor outcome\n",
    "\n",
    "**ECG Findings**\n",
    "ant_im – Anterior infarct: Anterior wall infarctions typically involve more myocardium and are associated with worse LV dysfunction and outcomes\n",
    "inf_im – Inferior infarct: Often involves the RCA, which can affect conduction system and cause bradyarrhythmias. Outcomes generally better than anterior MI\n",
    "post_im – Posterior infarct: Often missed due to subtle ECG changes. Associated with high risk of arrhythmias and larger infarct size if extensive\n",
    "ritm_ecg_p_01 – Sinus rhythm: Normal rhythm; absence of arrhythmias is generally favorable. Baseline for comparing risk if abnormal rhythms appear later\n",
    "ritm_ecg_p_07 – Tachycardia: May be a response to pain, hypoxia, or low cardiac output. Persistent tachycardia increases myocardial oxygen demand and worsens ischemia\n",
    "n_r_ecg_p_03 – Ventricular ectopy: Early sign of ventricular irritability, can precede ventricular tachycardia/fibrillation. Important marker of electrical instability\n",
    "\n",
    "**Blood Tests**\n",
    "K_BLOOD – Potassium levels: Both hypokalemia and hyperkalemia increase arrhythmia risk. Potassium disturbances are common in MI due to stress, renal dysfunction, or medication\n",
    "KFK_BLOOD – Creatine phosphokinase (CPK) level: Creatine phosphokinase is a marker of muscle damage. High levels usually indicate larger infarct size and correlate with severity of myocardial injury"
   ]
  },
  {
   "cell_type": "markdown",
   "id": "3e4a60e0",
   "metadata": {},
   "source": [
    "I think we should also only take the features at admission. "
   ]
  }
 ],
 "metadata": {
  "language_info": {
   "name": "python"
  }
 },
 "nbformat": 4,
 "nbformat_minor": 5
}
